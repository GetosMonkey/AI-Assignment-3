{
 "cells": [
  {
   "cell_type": "markdown",
   "id": "998bc454-ac6d-4045-8694-ee648ea72106",
   "metadata": {},
   "source": [
    "# CSC2042S 2025 \n",
    "## Assignment 3 \n",
    "\n",
    "## Logistic Regression News Classification\n",
    "#### Maryam Abrahams (ABRMAR043)\n",
    "---"
   ]
  },
  {
   "cell_type": "code",
   "execution_count": 17,
   "id": "a17d37d0-afc2-49a8-a018-e01c19b5263d",
   "metadata": {},
   "outputs": [],
   "source": [
    "# imports and setup \n",
    "\n",
    "# !pip install torch\n",
    "# !pip install datasets\n",
    "\n",
    "import torch \n",
    "import torch.nn as nn \n",
    "import torch.nn.functional as F\n",
    "import matplotlib.pyplot as plt \n",
    "import numpy as np \n",
    "import random\n",
    "import pandas as pd\n",
    "import re\n",
    "import string\n",
    "import itertools\n",
    "import seaborn as sns\n",
    "\n",
    "from matplotlib.pyplot import imshow\n",
    "from datasets import load_dataset\n",
    "from sklearn.feature_extraction.text import CountVectorizer, TfidfVectorizer\n",
    "from torch.utils.data import TensorDataset, DataLoader\n",
    "from sklearn.preprocessing import LabelEncoder\n"
   ]
  },
  {
   "cell_type": "markdown",
   "id": "2cbd7c17-cb56-4979-994b-496d074d1498",
   "metadata": {},
   "source": [
    "## Task 1: Data Processing"
   ]
  },
  {
   "cell_type": "markdown",
   "id": "d5cb25a6-3df7-43a4-bf8e-1a396505a966",
   "metadata": {},
   "source": [
    "This section prepares the MasakhaNEWS dataset for multinomial logistic regression by transforming \n",
    "raw article text into structured numerical representations. The pipeline handles both English and \n",
    "isiXhosa languages, implementing a standardized preprocessing workflow suitable for cross-lingual \n",
    "text classification.\n",
    "\n",
    "##### PROCESSING STEPS:\n",
    "1. *DATASET LOADING:* Loaded train, development, and test splits from TSV files for both languages\n",
    "2. *TEXT CLEANING*: Standardized text through:\n",
    "   - Lowercasing to normalize vocabulary\n",
    "   - Punctuation removal to reduce noise\n",
    "   - Digit elimination, as numbers rarely indicate news categories\n",
    "   - Whitespace normalization for consistent formatting\n",
    "3. *FEATURE EXTRACTION:* Converted cleaned text to numerical vectors using three approaches:\n",
    "   - Bag-of-Words for frequency-based representations\n",
    "   - Binary features for word presence/absence indicators\n",
    "   - TF-IDF for term importance weighting\n",
    "4. *VOCABULARY MANAGEMENT:* Controlled feature dimensionality by selecting the top 5000 terms\n",
    "\n",
    "DESIGN RATIONALE: The preprocessing strategy prioritizes vocabulary reduction while preserving \n",
    "semantic content, using language-agnostic methods that maintain compatibility across English \n",
    "and isiXhosa linguistic structures. This balanced approach ensures efficient model training \n",
    "without sacrificing classification performance."
   ]
  },
  {
   "cell_type": "code",
   "execution_count": 7,
   "id": "28495386-41a7-42e9-922d-90192697df45",
   "metadata": {},
   "outputs": [
    {
     "name": "stdout",
     "output_type": "stream",
     "text": [
      "English classes: ['business' 'entertainment' 'health' 'politics' 'sports' 'technology']\n",
      "Xhosa classes: ['business' 'entertainment' 'health' 'politics' 'sports']\n"
     ]
    }
   ],
   "source": [
    "\n",
    "# Loading datasets for both languages\n",
    "\n",
    "def load(lang): #lang = xho or eng\n",
    "    train = pd.read_csv(f\"A3-dataset/{lang}/train.tsv\", sep = \"\\t\")\n",
    "    dev = pd.read_csv(f\"A3-dataset/{lang}/dev.tsv\", sep = \"\\t\")\n",
    "    test = pd.read_csv(f\"A3-dataset/{lang}/test.tsv\", sep = \"\\t\")\n",
    "    return train, dev, test\n",
    "\n",
    "english_train, english_dev, english_test = load(\"eng\")\n",
    "xhosa_train, xhosa_dev, xhosa_test = load(\"xho\")\n",
    "\n",
    "# Preprocessing texts: lower, punctuation, digits, spaces\n",
    "\n",
    "def process_text(text):\n",
    "    text = text.lower()\n",
    "    text = re.sub(rf\"[{string.punctuation}]\", \" \", text)\n",
    "    text = re.sub(r\"\\d+\", \"\", text)\n",
    "    text = re.sub(r'\\s+', ' ', text).strip() \n",
    "    return text\n",
    "\n",
    "def clean(df):\n",
    "    text_col = \"full_text\" if \"full_text\" in df.columns else \"text\"\n",
    "    df[\"clean_text\"] = df[text_col].apply(process_text)\n",
    "    return df\n",
    "\n",
    "english_train, english_dev, english_test = map(clean, [english_train, english_dev, english_test])\n",
    "xhosa_train, xhosa_dev, xhosa_test = map(clean, [xhosa_train, xhosa_dev, xhosa_test])\n",
    "\n",
    "# Encoding labels for both languages \n",
    "\n",
    "eng_label_encoder = LabelEncoder()\n",
    "y_eng_train = eng_label_encoder.fit_transform(english_train[\"category\"])\n",
    "y_eng_dev = eng_label_encoder.transform(english_dev[\"category\"])\n",
    "y_eng_test = eng_label_encoder.transform(english_test[\"category\"])\n",
    "\n",
    "xho_label_encoder = LabelEncoder()\n",
    "y_xho_train = xho_label_encoder.fit_transform(xhosa_train[\"category\"])\n",
    "y_xho_dev = xho_label_encoder.transform(xhosa_dev[\"category\"])\n",
    "y_xho_test = xho_label_encoder.transform(xhosa_test[\"category\"])\n",
    "\n",
    "print(f\"English classes: {eng_label_encoder.classes_}\")\n",
    "print(f\"Xhosa classes: {xho_label_encoder.classes_}\")\n"
   ]
  },
  {
   "cell_type": "markdown",
   "id": "9fcad131-4419-42e5-be70-23c447890089",
   "metadata": {},
   "source": [
    "## Task 2: Multinomial logistic regression implementation\n",
    "\n",
    "This section implements a multinomial logistic regression model with softmax output layer\n",
    "using PyTorch's object-oriented design. The model handles multi-class classification\n",
    "for news categories across both English and isiXhosa languages."
   ]
  },
  {
   "cell_type": "code",
   "execution_count": 8,
   "id": "23fe641b-fe8e-48b2-a0bc-f4ec78c2fe4b",
   "metadata": {},
   "outputs": [],
   "source": [
    "\n",
    "# Multinomial logistic regression implementation\n",
    "\n",
    "class MultinomialLogisticRegression(nn.Module):\n",
    "    \n",
    "    def __init__(self, input_size, num_classes):\n",
    "        super(MultinomialLogisticRegression, self).__init__()\n",
    "        self.linear = nn.Linear(input_size, num_classes)\n",
    "    \n",
    "    def forward(self, feature):\n",
    "        output = self.linear(feature)\n",
    "        return output\n",
    "\n",
    "    def compute_probabilities(self, x): \n",
    "        output = self.forward(x)\n",
    "        probs = F.softmax(output, dim=1)\n",
    "        return probs\n",
    "\n",
    "    def predict(self, x): \n",
    "        probs = self.compute_probabilities(x)\n",
    "        predictions = torch.argmax(probs, dim = 1) \n",
    "        return predictions\n"
   ]
  },
  {
   "cell_type": "markdown",
   "id": "c88c31a4-e4e6-455d-9365-edf3bf08b186",
   "metadata": {},
   "source": [
    "## Task 5: Feature Extraction"
   ]
  },
  {
   "cell_type": "code",
   "execution_count": 9,
   "id": "71e74acd-6990-4ff1-b93f-4503695dd21e",
   "metadata": {},
   "outputs": [
    {
     "name": "stdout",
     "output_type": "stream",
     "text": [
      "\n",
      "English Vocabulary size:\n",
      " 5000\n",
      "Xhosa Vocabulary size:\n",
      " 5000\n",
      "\n",
      "Sample TF-IDF row (rounded):\n",
      " [0. 0. 0. ... 0. 0. 0.]\n",
      "\n",
      "Sample TF-IDF row (rounded):\n",
      " [0. 0. 0. ... 0. 0. 0.]\n",
      "\n"
     ]
    }
   ],
   "source": [
    "\n",
    "# Feature Extraction\n",
    "\n",
    "# Bag-of-Words (counts)\n",
    "eng_count_vec = CountVectorizer(max_features=5000)\n",
    "X_eng_train = eng_count_vec.fit_transform(english_train[\"clean_text\"])\n",
    "X_eng_dev   = eng_count_vec.transform(english_dev[\"clean_text\"])\n",
    "X_eng_test  = eng_count_vec.transform(english_test[\"clean_text\"])\n",
    "print('\\nEnglish Vocabulary size:\\n', len(eng_count_vec.get_feature_names_out()))\n",
    "\n",
    "xho_count_vec = CountVectorizer(max_features=5000)\n",
    "X_xho_train = xho_count_vec.fit_transform(xhosa_train[\"clean_text\"])\n",
    "X_xho_dev   = xho_count_vec.transform(xhosa_dev[\"clean_text\"])\n",
    "X_xho_test  = xho_count_vec.transform(xhosa_test[\"clean_text\"])\n",
    "print('Xhosa Vocabulary size:\\n', len(xho_count_vec.get_feature_names_out()))\n",
    "\n",
    "# Binary presence/absence\n",
    "eng_bin_vec = CountVectorizer(binary=True, max_features=5000)\n",
    "X_eng_train_bin = eng_bin_vec.fit_transform(english_train[\"clean_text\"])\n",
    "X_eng_dev_bin   = eng_bin_vec.transform(english_dev[\"clean_text\"])\n",
    "X_eng_test_bin  = eng_bin_vec.transform(english_test[\"clean_text\"])\n",
    "\n",
    "xho_bin_vec = CountVectorizer(binary=True, max_features=5000)\n",
    "X_xho_train_bin = xho_bin_vec.fit_transform(xhosa_train[\"clean_text\"])\n",
    "X_xho_dev_bin   = xho_bin_vec.transform(xhosa_dev[\"clean_text\"])\n",
    "X_xho_test_bin  = xho_bin_vec.transform(xhosa_test[\"clean_text\"])\n",
    "\n",
    "# TF-IDF - astaggies\n",
    "eng_tfidf_vec = TfidfVectorizer(max_features=5000)\n",
    "X_eng_train_tfidf = eng_tfidf_vec.fit_transform(english_train[\"clean_text\"])\n",
    "X_eng_dev_tfidf   = eng_tfidf_vec.transform(english_dev[\"clean_text\"])\n",
    "X_eng_test_tfidf  = eng_tfidf_vec.transform(english_test[\"clean_text\"])\n",
    "print(\"\\nSample TF-IDF row (rounded):\\n\", X_eng_train_tfidf.toarray()[0].round(2))\n",
    "\n",
    "xho_tfidf_vec = TfidfVectorizer(max_features=5000)\n",
    "X_xho_train_tfidf = xho_tfidf_vec.fit_transform(xhosa_train[\"clean_text\"])\n",
    "X_xho_dev_tfidf   = xho_tfidf_vec.transform(xhosa_dev[\"clean_text\"])\n",
    "X_xho_test_tfidf  = xho_tfidf_vec.transform(xhosa_test[\"clean_text\"])\n",
    "print(\"\\nSample TF-IDF row (rounded):\\n\", X_xho_train_tfidf.toarray()[0].round(2))\n",
    "print()\n"
   ]
  },
  {
   "cell_type": "markdown",
   "id": "ea67bca5-67f5-4462-8238-2d625ebcc942",
   "metadata": {},
   "source": [
    "## Task 4: Hyperparameter tuning"
   ]
  },
  {
   "cell_type": "code",
   "execution_count": 13,
   "id": "7783518f-b3a2-43ea-b548-30764f55b0df",
   "metadata": {},
   "outputs": [
    {
     "name": "stdout",
     "output_type": "stream",
     "text": [
      "\n",
      "Tuning for: English with TF-IDF\n",
      "Input dimension: 5000\n",
      "Number of classes: 6\n",
      "\n",
      "Testing lr=0.01, batch_size=16... Val Acc: 0.2119\n",
      "Testing lr=0.01, batch_size=32... Val Acc: 0.2119\n",
      "Testing lr=0.01, batch_size=64... Val Acc: 0.2119\n",
      "Testing lr=0.05, batch_size=16... Val Acc: 0.5636\n",
      "Testing lr=0.05, batch_size=32... Val Acc: 0.3814\n",
      "Testing lr=0.05, batch_size=64... Val Acc: 0.2161\n",
      "Testing lr=0.1, batch_size=16... Val Acc: 0.7479\n",
      "Testing lr=0.1, batch_size=32... Val Acc: 0.5720\n",
      "Testing lr=0.1, batch_size=64... Val Acc: 0.3708\n",
      "\n",
      "==================================================\n",
      "Best params: {'lr': 0.1, 'batch_size': 16}\n",
      "Best validation accuracy: 0.7478813529014587\n",
      "==================================================\n",
      "\n"
     ]
    }
   ],
   "source": [
    "\n",
    "# Hyperparameter tuning: \n",
    "\n",
    "X_train = X_eng_train_tfidf \n",
    "y_train = y_eng_train\n",
    "X_dev = X_eng_dev_tfidf\n",
    "y_dev = y_eng_dev\n",
    "\n",
    "input_dim = X_train.shape[1]\n",
    "num_classes = len(np.unique(y_train))\n",
    "\n",
    "print(f\"\\nTuning for: English with TF-IDF\")\n",
    "print(f\"Input dimension: {input_dim}\")\n",
    "print(f\"Number of classes: {num_classes}\")\n",
    "print()\n",
    "\n",
    "lrs = [0.01, 0.05, 0.1]\n",
    "batch_sizes = [16, 32, 64]\n",
    "best_val_acc = 0\n",
    "best_params = {}\n",
    "\n",
    "for lr, batch_size in itertools.product(lrs, batch_sizes):\n",
    "    print(f\"Testing lr={lr}, batch_size={batch_size}...\", end=\" \")\n",
    "    \n",
    "    # Convert to tensors INSIDE the loop (using the data defined above)\n",
    "    X_train_tensor = torch.tensor(X_train.toarray(), dtype=torch.float32)\n",
    "    y_train_tensor = torch.tensor(y_train, dtype=torch.long)\n",
    "    X_dev_tensor = torch.tensor(X_dev.toarray(), dtype=torch.float32)\n",
    "    y_dev_tensor = torch.tensor(y_dev, dtype=torch.long)\n",
    "    \n",
    "    train_dataset = TensorDataset(X_train_tensor, y_train_tensor)\n",
    "    train_loader = DataLoader(train_dataset, batch_size=batch_size, shuffle=True)\n",
    "    \n",
    "    model = MultinomialLogisticRegression(input_dim, num_classes)\n",
    "    optimizer = torch.optim.SGD(model.parameters(), lr=lr)\n",
    "    criterion = nn.CrossEntropyLoss()\n",
    "    \n",
    "    # Small quick training loop (3-5 epochs for tuning)\n",
    "    for epoch in range(5):\n",
    "        for xb, yb in train_loader:\n",
    "            optimizer.zero_grad()\n",
    "            logits = model.forward(xb)\n",
    "            loss = criterion(logits, yb)\n",
    "            loss.backward()\n",
    "            optimizer.step()\n",
    "    \n",
    "    # Evaluate on validation set\n",
    "    model.eval()\n",
    "    with torch.no_grad():\n",
    "        preds = model.predict(X_dev_tensor)\n",
    "        val_acc = (preds == y_dev_tensor).float().mean().item()\n",
    "    \n",
    "    print(f\"Val Acc: {val_acc:.4f}\")\n",
    "    \n",
    "    if val_acc > best_val_acc:\n",
    "        best_val_acc = val_acc\n",
    "        best_params = {\"lr\": lr, \"batch_size\": batch_size}\n",
    "\n",
    "print(\"\\n\" + \"=\"*50)\n",
    "print(\"Best params:\", best_params)\n",
    "print(\"Best validation accuracy:\", best_val_acc)\n",
    "print(\"=\"*50)\n",
    "print()\n"
   ]
  },
  {
   "cell_type": "markdown",
   "id": "b6cd39d9-179e-4790-aee3-12068cbde7bc",
   "metadata": {},
   "source": [
    "## Task 3: Training "
   ]
  },
  {
   "cell_type": "markdown",
   "id": "a649932c-0397-45ca-95d4-645b73e91f2c",
   "metadata": {},
   "source": [
    "This section implements a comprehensive training pipeline for multinomial logistic regression\n",
    "using cross-entropy loss and mini-batch gradient descent. The training includes proper\n",
    "data shuffling, loss computation, gradient updates, and intelligent stopping criteria."
   ]
  },
  {
   "cell_type": "code",
   "execution_count": 18,
   "id": "7b6967b0-5d81-4979-bf67-c54d0948263f",
   "metadata": {},
   "outputs": [],
   "source": [
    "\n",
    "# Training \n",
    "\n",
    "def train_model(model, X_train, y_train, X_val, y_val, \n",
    "                learning_rate=0.1, batch_size=32, max_epochs=100, \n",
    "                patience=5, verbose=True):\n",
    "    \n",
    "    # Convert to PyTorch tensors\n",
    "    X_train_tensor = torch.tensor(X_train.toarray(), dtype=torch.float32)\n",
    "    y_train_tensor = torch.tensor(y_train, dtype=torch.long)\n",
    "    X_val_tensor = torch.tensor(X_val.toarray(), dtype=torch.float32)\n",
    "    y_val_tensor = torch.tensor(y_val, dtype=torch.long)\n",
    "    \n",
    "    train_dataset = TensorDataset(X_train_tensor, y_train_tensor)\n",
    "    train_loader = DataLoader(train_dataset, batch_size=batch_size, shuffle=True)\n",
    "    optimizer = torch.optim.SGD(model.parameters(), lr=learning_rate)\n",
    "    criterion = nn.CrossEntropyLoss()\n",
    "    \n",
    "    # Training history tracking\n",
    "    history = {\n",
    "        'train_loss': [],\n",
    "        'val_accuracy': [],\n",
    "        'best_val_accuracy': 0,\n",
    "        'best_epoch': 0\n",
    "    }\n",
    "    \n",
    "    best_val_acc = 0\n",
    "    patience_counter = 0\n",
    "    best_model_state = None\n",
    "    \n",
    "    if verbose:\n",
    "        print(f\"Starting training for {max_epochs} epochs with patience {patience}\")\n",
    "        print(f\"Initial validation accuracy: \", end=\"\")\n",
    "    \n",
    "    # Training loop\n",
    "    for epoch in range(max_epochs):\n",
    "        model.train()  \n",
    "        epoch_loss = 0\n",
    "        num_batches = 0\n",
    "\n",
    "        for batch_X, batch_y in train_loader:\n",
    "            optimizer.zero_grad()\n",
    "        \n",
    "            logits = model(batch_X)\n",
    "            loss = criterion(logits, batch_y)\n",
    "            \n",
    "            loss.backward()\n",
    "            optimizer.step()\n",
    "            \n",
    "            epoch_loss += loss.item()\n",
    "            num_batches += 1\n",
    "        \n",
    "        avg_train_loss = epoch_loss / num_batches\n",
    "        history['train_loss'].append(avg_train_loss)\n",
    "        \n",
    "        model.eval()\n",
    "        with torch.no_grad():\n",
    "            val_predictions = model.predict(X_val_tensor)\n",
    "            val_accuracy = (val_predictions == y_val_tensor).float().mean().item()\n",
    "            history['val_accuracy'].append(val_accuracy)\n",
    "        \n",
    "        if val_accuracy > best_val_acc:\n",
    "            best_val_acc = val_accuracy\n",
    "            history['best_val_accuracy'] = best_val_acc\n",
    "            history['best_epoch'] = epoch\n",
    "            patience_counter = 0\n",
    "            best_model_state = model.state_dict().copy()\n",
    "        else:\n",
    "            patience_counter += 1\n",
    "        \n",
    "        if verbose and (epoch % 10 == 0 or epoch == max_epochs - 1 or patience_counter == 0):\n",
    "            print(f\"Epoch {epoch:3d}: Train Loss = {avg_train_loss:.4f}, \"\n",
    "                  f\"Val Acc = {val_accuracy:.4f}, Best = {best_val_acc:.4f}\")\n",
    "\n",
    "        if patience_counter >= patience:\n",
    "            if verbose:\n",
    "                print(f\"Early stopping at epoch {epoch}. No improvement for {patience} epochs.\")\n",
    "            break\n",
    "    \n",
    "    if best_model_state is not None:\n",
    "        model.load_state_dict(best_model_state)\n",
    "    \n",
    "    if verbose:\n",
    "        print(f\"Training completed. Best validation accuracy: {best_val_acc:.4f} \"\n",
    "              f\"at epoch {history['best_epoch']}\")\n",
    "    \n",
    "    return history\n"
   ]
  },
  {
   "cell_type": "code",
   "execution_count": 19,
   "id": "6b90a6c4-6341-4f87-8faf-cea76a8760fc",
   "metadata": {},
   "outputs": [
    {
     "name": "stdout",
     "output_type": "stream",
     "text": [
      "\n",
      "DEMONSTRATING TRAINING LOOP\n",
      "============================================================\n",
      "Using best parameters: lr=0.1, batch_size=16\n",
      "Starting training for 100 epochs with patience 5\n",
      "Initial validation accuracy: Epoch   0: Train Loss = 1.9522, Val Acc = 0.3538, Best = 0.3538\n",
      "Epoch   1: Train Loss = 1.7260, Val Acc = 0.5508, Best = 0.5508\n",
      "Epoch   2: Train Loss = 1.6194, Val Acc = 0.5975, Best = 0.5975\n",
      "Epoch   3: Train Loss = 1.5346, Val Acc = 0.6737, Best = 0.6737\n",
      "Epoch   4: Train Loss = 1.4624, Val Acc = 0.7394, Best = 0.7394\n",
      "Epoch   5: Train Loss = 1.3967, Val Acc = 0.8114, Best = 0.8114\n",
      "Epoch   7: Train Loss = 1.2841, Val Acc = 0.8242, Best = 0.8242\n",
      "Epoch  10: Train Loss = 1.1494, Val Acc = 0.8305, Best = 0.8305\n",
      "Epoch  11: Train Loss = 1.1116, Val Acc = 0.8369, Best = 0.8369\n",
      "Epoch  14: Train Loss = 1.0138, Val Acc = 0.8432, Best = 0.8432\n",
      "Epoch  16: Train Loss = 0.9598, Val Acc = 0.8538, Best = 0.8538\n",
      "Epoch  20: Train Loss = 0.8711, Val Acc = 0.8517, Best = 0.8538\n",
      "Early stopping at epoch 21. No improvement for 5 epochs.\n",
      "Training completed. Best validation accuracy: 0.8538 at epoch 16\n",
      "\n"
     ]
    }
   ],
   "source": [
    "\n",
    "# Demonstration of training with your best hyperparameters\n",
    "\n",
    "def demonstrate_training():\n",
    "\n",
    "    print(\"\\nDEMONSTRATING TRAINING LOOP\")\n",
    "    print(\"=\" * 60)\n",
    "    \n",
    "    # Use your best parameters from hyperparameter tuning\n",
    "    best_lr = best_params[\"lr\"]\n",
    "    best_batch_size = best_params[\"batch_size\"]\n",
    "    \n",
    "    print(f\"Using best parameters: lr={best_lr}, batch_size={best_batch_size}\")\n",
    "    \n",
    "    # Initialize model\n",
    "    model = MultinomialLogisticRegression(input_dim, num_classes)\n",
    "    \n",
    "    # Train with early stopping\n",
    "    history = train_model(\n",
    "        model=model,\n",
    "        X_train=X_eng_train_tfidf,\n",
    "        y_train=y_eng_train,\n",
    "        X_val=X_eng_dev_tfidf, \n",
    "        y_val=y_eng_dev,\n",
    "        learning_rate=best_lr,\n",
    "        batch_size=best_batch_size,\n",
    "        max_epochs=100,\n",
    "        patience=5,\n",
    "        verbose=True\n",
    "    )\n",
    "    \n",
    "    return model, history\n",
    "\n",
    "# Run training demonstration\n",
    "trained_model, training_history = demonstrate_training()\n",
    "print()\n"
   ]
  },
  {
   "cell_type": "code",
   "execution_count": 22,
   "id": "71e45d95-0ed8-4bd4-a17d-97c978423925",
   "metadata": {},
   "outputs": [
    {
     "data": {
      "text/plain": [
       "<Figure size 1000x400 with 0 Axes>"
      ]
     },
     "metadata": {},
     "output_type": "display_data"
    },
    {
     "data": {
      "image/png": "[encoded data removed]",
      "text/plain": [
       "<Figure size 1000x400 with 2 Axes>"
      ]
     },
     "metadata": {},
     "output_type": "display_data"
    }
   ],
   "source": [
    "\n",
    "# Plotting training history \n",
    "\n",
    "def simple_training_plot(history):\n",
    "    \n",
    "    plt.figure(figsize=(10, 4))\n",
    "    fig, ax1 = plt.subplots(figsize=(10, 4))\n",
    "    \n",
    "    color = 'tab:red'\n",
    "    ax1.set_xlabel('Epoch')\n",
    "    ax1.set_ylabel('Training Loss', color=color)\n",
    "    ax1.plot(history['train_loss'], color=color, linewidth=2, label='Training Loss')\n",
    "    ax1.tick_params(axis='y', labelcolor=color)\n",
    "    \n",
    "    ax2 = ax1.twinx()\n",
    "    color = 'tab:blue'\n",
    "    ax2.set_ylabel('Validation Accuracy', color=color)\n",
    "    ax2.plot(history['val_accuracy'], color=color, linewidth=2, label='Validation Accuracy')\n",
    "    ax2.tick_params(axis='y', labelcolor=color)\n",
    "    \n",
    "    plt.title('Training Progress: Loss and Accuracy')\n",
    "    fig.tight_layout()\n",
    "    plt.show()\n",
    "\n",
    "simple_training_plot(training_history)\n"
   ]
  },
  {
   "cell_type": "markdown",
   "id": "4084e146-0bae-4f84-86f3-4eb570263942",
   "metadata": {},
   "source": [
    "## Task 6: isiXhosa training decisions"
   ]
  },
  {
   "cell_type": "code",
   "execution_count": null,
   "id": "e426cac8-bd70-4e9b-8243-dcac69c2dc59",
   "metadata": {},
   "outputs": [],
   "source": []
  },
  {
   "cell_type": "markdown",
   "id": "d1f17615-0e44-4407-b300-4c1304df74b3",
   "metadata": {},
   "source": [
    "## Task 7: Evaluation"
   ]
  },
  {
   "cell_type": "code",
   "execution_count": null,
   "id": "72f42947-48d5-490d-a024-db0ad4475b83",
   "metadata": {},
   "outputs": [],
   "source": []
  },
  {
   "cell_type": "markdown",
   "id": "aaabda1d-b195-4be3-8079-9182b0bec9ad",
   "metadata": {},
   "source": [
    "## Task 8: Weight Analysis"
   ]
  },
  {
   "cell_type": "code",
   "execution_count": null,
   "id": "1c65b25b-5fec-4b80-8008-1a7903b90302",
   "metadata": {},
   "outputs": [],
   "source": []
  },
  {
   "cell_type": "markdown",
   "id": "d2f58a2f-73f0-4bb3-a4bb-adc1eab64949",
   "metadata": {},
   "source": [
    "Use of AI for "
   ]
  }
 ],
 "metadata": {
  "kernelspec": {
   "display_name": "Python 3 (ipykernel)",
   "language": "python",
   "name": "python3"
  },
  "language_info": {
   "codemirror_mode": {
    "name": "ipython",
    "version": 3
   },
   "file_extension": ".py",
   "mimetype": "text/x-python",
   "name": "python",
   "nbconvert_exporter": "python",
   "pygments_lexer": "ipython3",
   "version": "3.10.5"
  }
 },
 "nbformat": 4,
 "nbformat_minor": 5
}
